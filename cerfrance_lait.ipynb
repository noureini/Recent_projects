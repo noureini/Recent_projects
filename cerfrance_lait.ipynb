{
 "cells": [
  {
   "cell_type": "code",
   "execution_count": null,
   "metadata": {
    "id": "fAfikOHeUgFl"
   },
   "outputs": [],
   "source": [
    "#Imports et utilitaires"
   ]
  },
  {
   "cell_type": "code",
   "execution_count": null,
   "metadata": {
    "colab": {
     "base_uri": "https://localhost:8080/",
     "height": 415
    },
    "collapsed": true,
    "id": "oQqYhBaEUhbr",
    "jupyter": {
     "outputs_hidden": true
    },
    "outputId": "15fa0d13-76c2-47e3-df71-1a240878a5e1"
   },
   "outputs": [],
   "source": [
    "!pip install -q gcsfs shap optuna\n",
    "\n",
    "import optuna\n",
    "import pandas as pd, numpy as np\n",
    "import seaborn as sns\n",
    "from sklearn.preprocessing import StandardScaler\n",
    "from sklearn.preprocessing import MinMaxScaler\n",
    "from sklearn.manifold import TSNE\n",
    "from sklearn.decomposition import PCA\n",
    "import matplotlib.pyplot as plt\n",
    "from sklearn.cluster import KMeans\n",
    "from sklearn.metrics import silhouette_score\n",
    "from sklearn.metrics import accuracy_score\n",
    "from sklearn.model_selection import train_test_split\n",
    "import lightgbm as lgb\n",
    "from sklearn.tree import DecisionTreeClassifier\n",
    "from sklearn import tree\n",
    "import graphviz\n",
    "from sklearn.metrics import mean_absolute_error\n",
    "from sklearn.tree import DecisionTreeClassifier\n",
    "from sklearn import tree\n",
    "import graphviz\n",
    "from graphviz import Source\n",
    "from IPython.display import SVG\n",
    "%matplotlib inline\n",
    "\n",
    "#dessine la graphe d'Elbow pour trouver le nombre idéal de clusters \n",
    "def findbestclusters(data,maxclusters=30,minclusters=2):\n",
    "  Sum_of_squared_distances = []\n",
    "  K = range(minclusters,maxclusters)\n",
    "  for k in K:\n",
    "      km = KMeans(n_clusters=k, random_state=49)\n",
    "      km = km.fit(data)\n",
    "      Sum_of_squared_distances.append(km.inertia_)\n",
    "  plt.plot(K, Sum_of_squared_distances, 'bx-')\n",
    "  plt.xlabel('k')\n",
    "  plt.ylabel('Sum_of_squared_distances')\n",
    "  plt.title('Elbow Method For Optimal k')\n",
    "  plt.show()\n",
    "\n",
    "  sil = []\n",
    "  # dissimilarity would not be defined for a single cluster, thus, minimum number of clusters should be 2\n",
    "  for k in range(minclusters+1, maxclusters+1):\n",
    "    kmeans = KMeans(n_clusters = k).fit(X)\n",
    "    labels = kmeans.labels_\n",
    "    sil.append({'k':k,'score':silhouette_score(X, labels, metric = 'euclidean')})\n",
    "  sil=pd.DataFrame(sil)\n",
    "  sil.plot(x='k',y='score')\n",
    "  return sil[sil.score==sil.score.max()].iloc[0,0]\n",
    "\n",
    "target='PERFORMANCE: resultat par uth familial'"
   ]
  },
  {
   "cell_type": "code",
   "execution_count": null,
   "metadata": {
    "id": "3OaCPeahTcU2"
   },
   "outputs": [],
   "source": [
    "#Préparation de données"
   ]
  },
  {
   "cell_type": "code",
   "execution_count": null,
   "metadata": {
    "id": "jIuQVWuDs8YT"
   },
   "outputs": [],
   "source": [
    "##p"
   ]
  },
  {
   "cell_type": "code",
   "execution_count": null,
   "metadata": {
    "colab": {
     "base_uri": "https://localhost:8080/",
     "height": 68
    },
    "collapsed": true,
    "id": "nm-n4R4btyzF",
    "jupyter": {
     "outputs_hidden": true
    },
    "outputId": "4b601bd3-368a-4003-f0d1-d8951ad7ecc8"
   },
   "outputs": [],
   "source": [
    "!gsutil cp gs://referentiels2/viande.csv .\n",
    "viande=pd.read_csv('viande.csv').dropna()\n",
    "viande['ID_Dossier']=viande['ID_Dossier'].astype(int)\n",
    "viande['DEP']=viande['DEP'].astype(int)\n",
    "df=pd.read_csv('gs://referentiels2/laitratios.csv',sep=';')\n",
    "df=df.merge(viande, how='left')\n",
    "df['Produit_vente_animaux']=df['Produit_vente_animaux'].fillna(0)\n",
    "df.to_csv('gs://referentiels2/laitratios1.csv',index=False)"
   ]
  },
  {
   "cell_type": "code",
   "execution_count": null,
   "metadata": {
    "colab": {
     "base_uri": "https://localhost:8080/",
     "height": 69
    },
    "collapsed": true,
    "id": "XGviTDAvgHwF",
    "jupyter": {
     "outputs_hidden": true
    },
    "outputId": "c9d56778-2e1d-44a3-a1c9-50e3e435bda8"
   },
   "outputs": [],
   "source": [
    "lait=pd.read_csv('gs://referentiels2/lait.csv',sep=';')\n",
    "!gsutil cp gs://referentiels2/viande.csv .\n",
    "viande=pd.read_csv('viande.csv').dropna()\n",
    "viande['ID_Dossier']=viande['ID_Dossier'].astype(int)\n",
    "viande['DEP']=viande['DEP'].astype(int)\n",
    "lait=lait.merge(viande, how='left')\n",
    "lait['PB_VEG']=lait['PRODUIT_BRUT']-lait['PRODUIT_LAIT_VALEUR_TOTALE']-lait['Produit_vente_animaux'].fillna(0)-lait['AUTRES_PRODUITS']\n",
    "#PRODUIT BRUT – VENTES LAIT – VENTES ANIMAUX – AUTRES PRODUITS = PB_VEG.\n"
   ]
  },
  {
   "cell_type": "code",
   "execution_count": null,
   "metadata": {
    "id": "B3FE7ktrjYZa"
   },
   "outputs": [],
   "source": [
    "lait['PB_VEG_VLAIT']=lait['PB_VEG']/lait['PRODUIT_LAIT_QUANTITE']"
   ]
  },
  {
   "cell_type": "code",
   "execution_count": null,
   "metadata": {
    "id": "TCI7sFIij4w0"
   },
   "outputs": [],
   "source": [
    "df=pd.read_csv('gs://referentiels2/laitratios1.csv')"
   ]
  },
  {
   "cell_type": "code",
   "execution_count": null,
   "metadata": {
    "id": "7o5-D8nVkBvg"
   },
   "outputs": [],
   "source": [
    "df=df.merge(lait[['DEP','ID_Dossier','Annee','PB_VEG_VLAIT']], how='left')"
   ]
  },
  {
   "cell_type": "code",
   "execution_count": null,
   "metadata": {
    "id": "x8-HUCf0kWlC"
   },
   "outputs": [],
   "source": [
    "df['PB_VEG_VLAIT']=df['PB_VEG_VLAIT'].fillna(0)"
   ]
  },
  {
   "cell_type": "code",
   "execution_count": null,
   "metadata": {
    "id": "9-ZBEZ65kJ0m"
   },
   "outputs": [],
   "source": [
    "lait['PRODUIT_BRUT_HA']=lait.PRODUIT_BRUT/lait['TOTAL_SAU']"
   ]
  },
  {
   "cell_type": "code",
   "execution_count": null,
   "metadata": {
    "id": "daJL8kguk9Qu"
   },
   "outputs": [],
   "source": [
    "lait['VLAIT_HA']=lait['PRODUIT_LAIT_QUANTITE']/lait['TOTAL_SAU']"
   ]
  },
  {
   "cell_type": "code",
   "execution_count": null,
   "metadata": {
    "id": "MVBoJRI2j2M6"
   },
   "outputs": [],
   "source": [
    "df=df.merge(lait[['DEP','ID_Dossier','Annee','PRODUIT_BRUT_HA','VLAIT_HA']], how='left')"
   ]
  },
  {
   "cell_type": "code",
   "execution_count": null,
   "metadata": {
    "id": "ro_7XwcJladm"
   },
   "outputs": [],
   "source": [
    "df.to_csv('gs://referentiels2/laitratios1.csv',index=False)"
   ]
  },
  {
   "cell_type": "code",
   "execution_count": null,
   "metadata": {
    "id": "np3Hz3GhJ6sI"
   },
   "outputs": [],
   "source": [
    "c=pd.read_csv('correctionnord.csv')"
   ]
  },
  {
   "cell_type": "code",
   "execution_count": null,
   "metadata": {
    "id": "Bj4WxVNsKWRO"
   },
   "outputs": [],
   "source": [
    "c=c[c.DEP.isin(['59','62'])]"
   ]
  },
  {
   "cell_type": "code",
   "execution_count": null,
   "metadata": {
    "colab": {
     "base_uri": "https://localhost:8080/",
     "height": 155
    },
    "collapsed": true,
    "id": "jC43IDU-Lck3",
    "jupyter": {
     "outputs_hidden": true
    },
    "outputId": "081b8655-bfb7-4ac8-924a-3d336365ad48"
   },
   "outputs": [],
   "source": [
    "c['DEP']=c['DEP'].astype(int)"
   ]
  },
  {
   "cell_type": "code",
   "execution_count": null,
   "metadata": {
    "id": "4xNZLdc_KEaF"
   },
   "outputs": [],
   "source": [
    "df=pd.read_csv('gs://referentiels2/laitratios1.csv')"
   ]
  },
  {
   "cell_type": "code",
   "execution_count": null,
   "metadata": {
    "id": "n8qMTKeVKKOa"
   },
   "outputs": [],
   "source": [
    "df=df.merge(c, how='left', on=['DEP','ID_Dossier','Annee'])"
   ]
  },
  {
   "cell_type": "code",
   "execution_count": null,
   "metadata": {
    "id": "_8dkaysQLl5B"
   },
   "outputs": [],
   "source": [
    "df['VLAIT_PAR_UGB_VL']=np.where(df['VLAIT_PAR_UGB_VL_y'].isna(),df['VLAIT_PAR_UGB_VL_x'],df['VLAIT_PAR_UGB_VL_y'])"
   ]
  },
  {
   "cell_type": "code",
   "execution_count": null,
   "metadata": {
    "id": "QyC3Ewt6JorB"
   },
   "outputs": [],
   "source": [
    "df.drop(['VLAIT_PAR_UGB_VL_y','VLAIT_PAR_UGB_VL_x'],1,inplace=True)"
   ]
  },
  {
   "cell_type": "code",
   "execution_count": null,
   "metadata": {
    "id": "q7asiFa8L22o"
   },
   "outputs": [],
   "source": [
    "df.to_csv('gs://referentiels2/laitratios1.csv',index=False)"
   ]
  },
  {
   "cell_type": "code",
   "execution_count": null,
   "metadata": {
    "id": "MT2Um2b1buRG"
   },
   "outputs": [],
   "source": [
    "##ajout du lait par sau et sfp"
   ]
  },
  {
   "cell_type": "code",
   "execution_count": null,
   "metadata": {
    "id": "rSYP1hikbxfZ"
   },
   "outputs": [],
   "source": [
    "lait=pd.read_csv('gs://referentiels2/lait.csv',sep=';')\n",
    "complements=lait[['DEP','ID_Dossier','Annee','PRODUIT_LAIT_QUANTITE','TOTAL_SAU','SFP']].copy()\n",
    "complements['lait_par_sau']=complements.PRODUIT_LAIT_QUANTITE/complements.TOTAL_SAU\n",
    "complements['lait_par_sfp']=complements.PRODUIT_LAIT_QUANTITE/complements.SFP\n",
    "complements=complements[['DEP','ID_Dossier','Annee','lait_par_sau','lait_par_sfp']].copy()\n",
    "df=pd.read_csv('gs://referentiels2/laitratios1.csv')\n",
    "df=df.merge(complements, how='left')\n",
    "df.to_csv('gs://referentiels2/laitratios1.csv',index=False)"
   ]
  },
  {
   "cell_type": "code",
   "execution_count": null,
   "metadata": {
    "id": "MN5R7XAnUwaV"
   },
   "outputs": [],
   "source": [
    "#Nettoyage des valeurs extrêmes et remplacement des valeurs manquantes"
   ]
  },
  {
   "cell_type": "code",
   "execution_count": null,
   "metadata": {
    "id": "rgMxW8i0PFBB"
   },
   "outputs": [],
   "source": [
    "df=pd.read_csv('/content/BASE_ALL_PROJET_LAIT_VF_23032020.csv',sep=';')\n",
    "df=df[df['SFP']>0]\n",
    "df=df[df['VLAIT_PAR_VL']!='#DIV/0!']\n",
    "df['VLAIT_PAR_VL']=df['VLAIT_PAR_VL'].astype(float)\n",
    "df['POSITIONNEMENT: lait par ha de surface fourragère principale']=df['PRODUIT_LAIT_QUANTITE']/df['SFP']\n",
    "df=df.rename(columns={'PRODUIT_BRUT_HA':'PRATIQUES D\\'ELEVAGE: produit brut par hectare','PB_VEG_VLAIT':'PRATIQUES D\\'ELEVAGE: ventes de végétaux','DEP':'ID: département','ID_Dossier':'ID: dossier','RESULTAT_PAR_UTH_FAM':'CIBLE: resultat par uth familial','UTH_FAMILIAUX':'DIMENSION: uth familiaux','TOTAL_ANNUITES_VLAIT':'DYNAMIQUE STRUCTURELLE: annuites','AUTRES_FRAIS_ELEVAGE_VLAIT':'PRATIQUES D\\'ELEVAGE: autres frais','CHARGES_FINANCIERES_CT_VLAIT':'DYNAMIQUE STRUCTURELLE: charges financières court terme',\n",
    "                  'CHARGES_FINANCIERES_LMT_VLAIT':'DYNAMIQUE STRUCTURELLE: charges financières long terme','HONORAIRES_VETO_PAR_VLAIT':'PRATIQUES D\\'ELEVAGE: frais vétérinaires','SALAIRES_CHARGES_SOCIALES_VLAIT':'DYNAMIQUE STRUCTURELLE: salaires chargés',\n",
    "                   'VLAIT_PAR_UTH_FAM':'DYNAMIQUE STRUCTURELLE: volume de lait par uth familial','SURFACE_MAIS_FOURRAGER':'DIMENSION: surface de maïs fourrager',\n",
    "                   'TOTAL_CHARGES_STRUCTURE_VLAIT':'DYNAMIQUE STRUCTURELLE: charges de structure',\n",
    "                   'UGB':'DIMENSION: taille du troupeau','VLAIT_PAR_VL':'POSITIONNEMENT: lait par vache laitière',\n",
    "                   'Produit_vente_animaux':'PRATIQUES D\\'ELEVAGE: vente d\\'animaux','TAUX_SPECIALISATION':'PRATIQUES D\\'ELEVAGE: taux de spécialisation','PRIX_UNITAIRE_LAIT':'INVARIANT: prix du lait','SFP':'DIMENSION: surface des prairies',\n",
    "                   'CHARGES_ALIMENTS_PAR_VLAIT':'PRATIQUES D\\'ELEVAGE: aliments','PRODUIT_BRUT_VLAIT':'PRATIQUES D\\'ELEVAGE: produit brut',\n",
    "                   'AMORTISSEMENTS_VLAIT':'DYNAMIQUE STRUCTURELLE: amortissements',\n",
    "                   })\n",
    "\n",
    "orders=['ID','INVARIANT','DIMENSION','DYNAMIQUE STRUCTURELLE','PRATIQUES D\\'ELEVAGE','POSITIONNEMENT','CIBLE']\n",
    "df=pd.concat([df.filter(regex=f'{order}:') for order in orders],1)\n",
    "df=df.fillna(0)\n",
    "\n",
    "#sélection des fermes avec 3 exercices minimum et moyenne des valeurs\n",
    "indexcolumns=list(df.filter(regex='ID:').columns)\n",
    "means=df.groupby(indexcolumns).mean()\n",
    "counts=df.groupby(indexcolumns).count().iloc[:,0]\n",
    "counts=counts[counts>2]\n",
    "df=means[means.index.isin(counts.index)]\n",
    "df=df[(df['POSITIONNEMENT: lait par ha de surface fourragère principale']<20000) & (df['POSITIONNEMENT: lait par vache laitière']>4000) & (df['POSITIONNEMENT: lait par vache laitière']<20000) & (df['DIMENSION: surface des prairies']<200) & (df['DIMENSION: taille du troupeau']<400) & (df['CIBLE: resultat par uth familial']>-20000)]"
   ]
  },
  {
   "cell_type": "code",
   "execution_count": null,
   "metadata": {
    "colab": {
     "base_uri": "https://localhost:8080/",
     "height": 35
    },
    "id": "B5tup1xGYMWU",
    "outputId": "5ad07436-21b7-499d-e6e8-17a384d80361"
   },
   "outputs": [],
   "source": [
    "df.shape #814 737"
   ]
  },
  {
   "cell_type": "code",
   "execution_count": null,
   "metadata": {
    "id": "W_V2IXuioeAV"
   },
   "outputs": [],
   "source": [
    "#détermination des groupes"
   ]
  },
  {
   "cell_type": "code",
   "execution_count": null,
   "metadata": {
    "colab": {
     "base_uri": "https://localhost:8080/",
     "height": 565
    },
    "collapsed": true,
    "id": "B8-uvFZqEcwt",
    "jupyter": {
     "outputs_hidden": true
    },
    "outputId": "48d44563-e9d3-4ae7-e863-e2d3152829d5"
   },
   "outputs": [],
   "source": [
    "n_clusters=findbestclusters(df.filter(regex='POSITIONNEMENT'),maxclusters=10,minclusters=1)"
   ]
  },
  {
   "cell_type": "code",
   "execution_count": null,
   "metadata": {
    "colab": {
     "base_uri": "https://localhost:8080/",
     "height": 515
    },
    "collapsed": true,
    "id": "trnZVtncFamo",
    "jupyter": {
     "outputs_hidden": true
    },
    "outputId": "49fce8bc-d0c9-4829-b729-7fc4d7647b76"
   },
   "outputs": [],
   "source": [
    "n_clusters=5\n",
    "km = KMeans(n_clusters=n_clusters, random_state=49)\n",
    "y=km.fit_predict(df.filter(regex='POSITIONNEMENT'))\n",
    "fig, ax = plt.subplots(figsize=(10,8)) \n",
    "sns.scatterplot(data=df, x='POSITIONNEMENT: lait par vache laitière',y='POSITIONNEMENT: lait par ha de surface fourragère principale',hue=y,ax=ax,palette=\"Set2\",)"
   ]
  },
  {
   "cell_type": "code",
   "execution_count": null,
   "metadata": {
    "id": "rtvKCTJ_1_mU"
   },
   "outputs": [],
   "source": [
    "dfclustered=df.copy()\n",
    "dfclustered['cluster']=y\n",
    "dfclustered.to_csv('gs://referentiels2/dfclustered.csv')"
   ]
  },
  {
   "cell_type": "code",
   "execution_count": null,
   "metadata": {
    "colab": {
     "base_uri": "https://localhost:8080/",
     "height": 544
    },
    "collapsed": true,
    "id": "cCXfMQn3gK5g",
    "jupyter": {
     "outputs_hidden": true
    },
    "outputId": "4e52d29a-9134-450b-8fd8-bc3c90f9bed0"
   },
   "outputs": [],
   "source": [
    "dfclustered"
   ]
  },
  {
   "cell_type": "code",
   "execution_count": null,
   "metadata": {
    "colab": {
     "base_uri": "https://localhost:8080/",
     "height": 542
    },
    "collapsed": true,
    "id": "FCDSyRffgJuy",
    "jupyter": {
     "outputs_hidden": true
    },
    "outputId": "67690629-6ec8-4a26-ebb4-c61e224809ce"
   },
   "outputs": [],
   "source": [
    "import plotly.express as px\n",
    "fig = px.scatter_3d(dfclustered, x='POSITIONNEMENT: lait par vache laitière',y='POSITIONNEMENT: lait par ha de surface fourragère principale', z='CIBLE: resultat par uth familial',\n",
    "              color='cluster')\n",
    "fig.show()"
   ]
  },
  {
   "cell_type": "code",
   "execution_count": null,
   "metadata": {
    "id": "vNBSIgbU4QEU"
   },
   "outputs": [],
   "source": [
    "dfclustered.to_csv('dfclustered.csv')"
   ]
  },
  {
   "cell_type": "code",
   "execution_count": null,
   "metadata": {
    "id": "bA2PNhId_YYv"
   },
   "outputs": [],
   "source": [
    "#détermination des critères de clusters"
   ]
  },
  {
   "cell_type": "code",
   "execution_count": null,
   "metadata": {
    "id": "l2Nr_cxF_Xd5"
   },
   "outputs": [],
   "source": [
    "dfclustered=pd.read_csv('gs://referentiels2/dfclustered.csv')"
   ]
  },
  {
   "cell_type": "code",
   "execution_count": null,
   "metadata": {
    "colab": {
     "base_uri": "https://localhost:8080/",
     "height": 296
    },
    "collapsed": true,
    "id": "VD6jhuXWvi5u",
    "jupyter": {
     "outputs_hidden": true
    },
    "outputId": "cc714b7a-db0b-4225-99e4-c18dc8003cf3"
   },
   "outputs": [],
   "source": [
    "sns.countplot(x='cluster',data=dfclustered, palette='Set2')"
   ]
  },
  {
   "cell_type": "code",
   "execution_count": null,
   "metadata": {
    "colab": {
     "base_uri": "https://localhost:8080/",
     "height": 1000
    },
    "collapsed": true,
    "id": "VUyhE2j3u_Ui",
    "jupyter": {
     "outputs_hidden": true
    },
    "outputId": "641ede26-7f7b-409b-99f0-5dd818738031"
   },
   "outputs": [],
   "source": [
    "for c in dfclustered.columns:\n",
    "  fig, ax = plt.subplots(figsize=(4,4)) \n",
    "  sns.boxplot(x=\"cluster\", y=c, data=dfclustered,\n",
    "                   ax=ax, palette='Set2')"
   ]
  },
  {
   "cell_type": "code",
   "execution_count": null,
   "metadata": {
    "colab": {
     "base_uri": "https://localhost:8080/",
     "height": 544
    },
    "collapsed": true,
    "id": "0zHyCoSDMxyr",
    "jupyter": {
     "outputs_hidden": true
    },
    "outputId": "b37aa10f-d564-4722-be6c-c2c8ad68b92c"
   },
   "outputs": [],
   "source": [
    "dfclustered"
   ]
  },
  {
   "cell_type": "code",
   "execution_count": null,
   "metadata": {
    "colab": {
     "base_uri": "https://localhost:8080/",
     "height": 1000
    },
    "collapsed": true,
    "id": "B_s0PMZA0qK4",
    "jupyter": {
     "outputs_hidden": true
    },
    "outputId": "c19bb623-5689-4a89-e62a-fec0c04cd773"
   },
   "outputs": [],
   "source": [
    "import plotly.graph_objects as go\n",
    "values=dfclustered.groupby('cluster').mean()\n",
    "\n",
    "values=pd.DataFrame(MinMaxScaler().fit_transform(values),columns=values.columns)\n",
    "\n",
    "categories = values.columns\n",
    "for index, row in values.iterrows():\n",
    "  fig = go.Figure()\n",
    "  fig.add_trace(go.Scatterpolar(\n",
    "        r=list(row.values),\n",
    "        theta=categories,\n",
    "        fill='toself',\n",
    "        name=str(index),\n",
    "        line_color='rgb'+str(sns.color_palette(\"Set2\",8)[index])\n",
    "  ))\n",
    "  fig.show()"
   ]
  },
  {
   "cell_type": "code",
   "execution_count": null,
   "metadata": {
    "id": "mvwsfZfg5Okd"
   },
   "outputs": [],
   "source": [
    "for cluster in dfclustered.cluster.unique():\n",
    "  print(cluster)\n",
    "  cluster0=dfclustered.copy()\n",
    "  cluster0['cluster']=cluster0['cluster']==cluster\n",
    "  cluster0=cluster0.drop(['ID: dossier','ID: département','POSITIONNEMENT: lait par ha de surface fourragère principale','POSITIONNEMENT: lait par vache laitière'],1)\n",
    "  X=cluster0.drop('cluster',1)\n",
    "  y=cluster0.cluster\n",
    "  estimator = DecisionTreeClassifier(max_depth=3)\n",
    "  estimator.fit(X, y)\n",
    "\n",
    "  graph = Source(tree.export_graphviz(estimator, out_file=None\n",
    "    , feature_names=X.columns\n",
    "    , filled = True))\n",
    "  display(SVG(graph.pipe(format='svg')))"
   ]
  },
  {
   "cell_type": "code",
   "execution_count": null,
   "metadata": {
    "id": "sNSVrunO_rdu"
   },
   "outputs": [],
   "source": [
    "#analyse suite"
   ]
  },
  {
   "cell_type": "code",
   "execution_count": null,
   "metadata": {
    "id": "6Kq3l5rMysc0"
   },
   "outputs": [],
   "source": [
    "import lightgbm as lgb\n",
    "import shap\n",
    "dfclustered=pd.read_csv('gs://referentiels2/dfclustered.csv')\n",
    "def bestandworst(cluster):\n",
    "  c0=dfclustered[dfclustered.cluster==cluster].drop(['cluster','x','y'],1).set_index(['ID: département','ID: dossier','ID: année'])\n",
    "  random_state = 7\n",
    "  X = c0.drop('PERFORMANCE: resultat par uth familial',1)\n",
    "  y=c0['PERFORMANCE: resultat par uth familial']\n",
    "  X_train, X_test, y_train, y_test = train_test_split(X, y, test_size=0.2, random_state=random_state)\n",
    "  model=lgb.LGBMRegressor(n_estimators=50000)\n",
    "  model.fit(X_train, y_train, eval_set=(X_test, y_test), early_stopping_rounds=20,verbose=False)\n",
    "  explainer = shap.TreeExplainer(model)\n",
    "  expected_value = explainer.expected_value\n",
    "  features = X.loc[y.sort_values()[-20:].append(y.sort_values()[:20]).index]\n",
    "  features_display = features\n",
    "  shap_values = explainer.shap_values(features)#[1]\n",
    "  shap_interaction_values = explainer.shap_interaction_values(features)\n",
    "  shap.decision_plot(expected_value, shap_values, features_display)\n",
    "  #shap.summary_plot(shap_values, X)"
   ]
  },
  {
   "cell_type": "code",
   "execution_count": null,
   "metadata": {
    "id": "Ml86bnkS1rEt"
   },
   "outputs": [],
   "source": [
    "dfclustered.to_csv('dfclustered.csv',index=False)"
   ]
  },
  {
   "cell_type": "code",
   "execution_count": null,
   "metadata": {
    "colab": {
     "base_uri": "https://localhost:8080/",
     "height": 615
    },
    "collapsed": true,
    "id": "O7nf6sqPBc7A",
    "jupyter": {
     "outputs_hidden": true
    },
    "outputId": "86fd81f0-86f9-4bf4-dac6-11a73ef21ab1"
   },
   "outputs": [],
   "source": [
    "bestandworst(0)"
   ]
  },
  {
   "cell_type": "code",
   "execution_count": null,
   "metadata": {
    "colab": {
     "base_uri": "https://localhost:8080/",
     "height": 615
    },
    "collapsed": true,
    "id": "B4j9WePULk_v",
    "jupyter": {
     "outputs_hidden": true
    },
    "outputId": "70a2ff9f-3204-4375-a02c-04160fba52b6"
   },
   "outputs": [],
   "source": [
    "bestandworst(0)"
   ]
  },
  {
   "cell_type": "code",
   "execution_count": null,
   "metadata": {
    "colab": {
     "base_uri": "https://localhost:8080/",
     "height": 615
    },
    "collapsed": true,
    "id": "atFhKAElAZWU",
    "jupyter": {
     "outputs_hidden": true
    },
    "outputId": "19fb4f64-f7ca-44e6-838d-2e66bba2bb69"
   },
   "outputs": [],
   "source": [
    "bestandworst(1)"
   ]
  },
  {
   "cell_type": "code",
   "execution_count": null,
   "metadata": {
    "colab": {
     "base_uri": "https://localhost:8080/",
     "height": 615
    },
    "collapsed": true,
    "id": "LYNwc0_1B-bF",
    "jupyter": {
     "outputs_hidden": true
    },
    "outputId": "4e5d80ee-fb6c-4d99-ad7c-1526300236c2"
   },
   "outputs": [],
   "source": [
    "bestandworst(2)"
   ]
  },
  {
   "cell_type": "code",
   "execution_count": null,
   "metadata": {
    "colab": {
     "base_uri": "https://localhost:8080/",
     "height": 615
    },
    "collapsed": true,
    "id": "feM406ezCOLB",
    "jupyter": {
     "outputs_hidden": true
    },
    "outputId": "a72e4eaa-a4cd-4917-9a2a-c3137e2ca4cd"
   },
   "outputs": [],
   "source": [
    "bestandworst(3)"
   ]
  },
  {
   "cell_type": "code",
   "execution_count": null,
   "metadata": {
    "colab": {
     "base_uri": "https://localhost:8080/",
     "height": 615
    },
    "collapsed": true,
    "id": "8o1u3YZdDQzZ",
    "jupyter": {
     "outputs_hidden": true
    },
    "outputId": "259c4c31-1831-49a3-b95f-e0414a233a68"
   },
   "outputs": [],
   "source": [
    "bestandworst(4)"
   ]
  },
  {
   "cell_type": "code",
   "execution_count": null,
   "metadata": {
    "id": "iBhN_BCPH3Xd"
   },
   "outputs": [],
   "source": [
    "from sklearn.neighbors import NearestNeighbors\n",
    "X=dfclustered.set_index(['ID: département', 'ID: dossier', 'ID: année']).drop(['x','y'],1)\n",
    "nbrs = NearestNeighbors(n_neighbors=100, algorithm='ball_tree').fit(X)\n",
    "distances, indices = nbrs.kneighbors(X)"
   ]
  },
  {
   "cell_type": "code",
   "execution_count": null,
   "metadata": {
    "id": "ej7IqHoC1Gqb"
   },
   "outputs": [],
   "source": [
    "indices=pd.DataFrame(indices)"
   ]
  },
  {
   "cell_type": "code",
   "execution_count": null,
   "metadata": {
    "id": "3x8Da_X6-c3l"
   },
   "outputs": [],
   "source": [
    "i=[]\n",
    "for index,row in indices.iterrows():\n",
    "  for j in row[1:]:\n",
    "    i.append({'index':index,'neighbor':j})"
   ]
  },
  {
   "cell_type": "code",
   "execution_count": null,
   "metadata": {
    "id": "WI4QSUsE_gQU"
   },
   "outputs": [],
   "source": [
    "i=pd.DataFrame(i)"
   ]
  },
  {
   "cell_type": "code",
   "execution_count": null,
   "metadata": {
    "id": "LYfgsmXK2EQA"
   },
   "outputs": [],
   "source": [
    "neighbors=i.merge(dfclustered[['PERFORMANCE: resultat par uth familial']],left_on='neighbor', right_index=True)"
   ]
  },
  {
   "cell_type": "code",
   "execution_count": null,
   "metadata": {
    "id": "DjsdtOUEgQPg"
   },
   "outputs": [],
   "source": [
    "best=neighbors.merge(dfclustered, left_on='index', right_index=True).merge(dfclustered, left_on='neighbor', right_index=True, suffixes=('', '_target'))"
   ]
  },
  {
   "cell_type": "code",
   "execution_count": null,
   "metadata": {
    "id": "LPB2U5hrgm6W"
   },
   "outputs": [],
   "source": [
    "best=best[best[\"EXPLOITATION: uth familiaux\"]==best[\"EXPLOITATION: uth familiaux_target\"]]\n",
    "best=best[(np.abs(best['EXPLOITATION: surface des prairies']-best['EXPLOITATION: surface des prairies_target'])/best['EXPLOITATION: surface des prairies_target'])<0.1]\n",
    "best=best[(np.abs(best['CHARGES: amortissements']-best['CHARGES: amortissements_target'])/best['CHARGES: amortissements_target'])<0.2]"
   ]
  },
  {
   "cell_type": "code",
   "execution_count": null,
   "metadata": {
    "colab": {
     "base_uri": "https://localhost:8080/",
     "height": 507
    },
    "collapsed": true,
    "id": "xRMa830WivGs",
    "jupyter": {
     "outputs_hidden": true
    },
    "outputId": "49c43af4-0bf1-4086-8355-0aa6940b6fd1"
   },
   "outputs": [],
   "source": [
    "best"
   ]
  },
  {
   "cell_type": "code",
   "execution_count": null,
   "metadata": {
    "id": "2ziemcvFiJ80"
   },
   "outputs": [],
   "source": [
    "best=best.groupby('index')['PERFORMANCE: resultat par uth familial_x'].max().reset_index().merge(best).drop_duplicates(subset='index')"
   ]
  },
  {
   "cell_type": "code",
   "execution_count": null,
   "metadata": {
    "id": "sV9ZBSBTB5au"
   },
   "outputs": [],
   "source": [
    "best=best.drop('PERFORMANCE: resultat par uth familial_x',1).rename(columns={'PERFORMANCE: resultat par uth familial':'PERFORMANCE: resultat par uth familial_target','PERFORMANCE: resultat par uth familial_y':'PERFORMANCE: resultat par uth familial'})"
   ]
  },
  {
   "cell_type": "code",
   "execution_count": null,
   "metadata": {
    "id": "SU0eAcWoBY3N"
   },
   "outputs": [],
   "source": [
    "for c in best.filter(regex='target').columns:\n",
    "  c_init=c.replace('_target','')\n",
    "  best[c_init+'_delta']=best[c]-best[c_init]\n",
    "  best[c_init+'_delta_perc']=(best[c]-best[c_init])/best[c_init]"
   ]
  },
  {
   "cell_type": "code",
   "execution_count": null,
   "metadata": {
    "id": "DHhu96MuFcOS"
   },
   "outputs": [],
   "source": [
    "best=best[best['PERFORMANCE: resultat par uth familial_delta']>0]"
   ]
  },
  {
   "cell_type": "code",
   "execution_count": null,
   "metadata": {
    "colab": {
     "base_uri": "https://localhost:8080/",
     "height": 170
    },
    "collapsed": true,
    "id": "MJX0mhkgE6D3",
    "jupyter": {
     "outputs_hidden": true
    },
    "outputId": "e67cf192-97f6-45a5-e55f-83723dc2a57d"
   },
   "outputs": [],
   "source": [
    "best['PERFORMANCE: resultat par uth familial_delta_perc'].describe()"
   ]
  },
  {
   "cell_type": "code",
   "execution_count": null,
   "metadata": {
    "colab": {
     "base_uri": "https://localhost:8080/",
     "height": 51
    },
    "collapsed": true,
    "id": "BAcWPwLt4BpP",
    "jupyter": {
     "outputs_hidden": true
    },
    "outputId": "cd18afc9-5c42-483a-8e8f-43c2942287ea"
   },
   "outputs": [],
   "source": [
    "best[best['cluster']==0].cluster.value_counts().sort_index()"
   ]
  },
  {
   "cell_type": "code",
   "execution_count": null,
   "metadata": {
    "colab": {
     "base_uri": "https://localhost:8080/",
     "height": 119
    },
    "collapsed": true,
    "id": "Ho59t1sW6IfK",
    "jupyter": {
     "outputs_hidden": true
    },
    "outputId": "1c0fe58b-359f-4ddb-fd9a-35c7fb9c2ccc"
   },
   "outputs": [],
   "source": [
    "best[best['cluster']==0].cluster_target.value_counts().sort_index()"
   ]
  },
  {
   "cell_type": "code",
   "execution_count": null,
   "metadata": {
    "colab": {
     "base_uri": "https://localhost:8080/",
     "height": 34
    },
    "id": "1y3sOkOJmtv3",
    "outputId": "b0d1b5a4-5a82-4ac2-9d95-8684a68724c6"
   },
   "outputs": [],
   "source": [
    "best.shape"
   ]
  },
  {
   "cell_type": "code",
   "execution_count": null,
   "metadata": {
    "colab": {
     "base_uri": "https://localhost:8080/",
     "height": 514
    },
    "collapsed": true,
    "id": "-coaDseuCyDH",
    "jupyter": {
     "outputs_hidden": true
    },
    "outputId": "512e7a85-4c4b-4af1-e63c-f74db0189b10"
   },
   "outputs": [],
   "source": [
    "fig, ax = plt.subplots(figsize=(10,8)) \n",
    "sns.scatterplot(data=best, x='x_target',y='y_target',hue='PERFORMANCE: resultat par uth familial_delta',ax=ax,palette=\"Reds\",)"
   ]
  },
  {
   "cell_type": "code",
   "execution_count": null,
   "metadata": {
    "colab": {
     "base_uri": "https://localhost:8080/",
     "height": 323
    },
    "collapsed": true,
    "id": "0T9hnbywEekv",
    "jupyter": {
     "outputs_hidden": true
    },
    "outputId": "091ef4d0-2c0c-4281-ebcb-a1e08f8ba660"
   },
   "outputs": [],
   "source": [
    "best.groupby('cluster').mean().filter(regex='delta$')[['EXPLOITATION: uth familiaux_delta',\n",
    "       'EXPLOITATION: taux de spécialisation_delta',\n",
    "       'EXPLOITATION: surface des prairies_delta',\n",
    "       'EXPLOITATION: surface de maïs fourrager_delta',\n",
    "       'ELEVAGE: autres frais_delta', 'ELEVAGE: frais vétérinaires_delta',\n",
    "       'ELEVAGE: aliments_delta', 'ELEVAGE: taille du troupeau_delta',\n",
    "       'ELEVAGE: vente d\\'animaux_delta', 'CONTEXTE: prix du lait_delta',\n",
    "       'CONTEXTE: aides laitières_delta', 'CHARGES: annuites_delta',\n",
    "       'CHARGES: amortissements_delta',\n",
    "       'CHARGES: charges financières court terme_delta',\n",
    "       'CHARGES: charges financières long terme_delta',\n",
    "       'CHARGES: salaires chargés_delta',\n",
    "       'CHARGES: charges de structure_delta',\n",
    "       'PERFORMANCE: resultat par uth familial_delta',\n",
    "       'PERFORMANCE: produit brut_delta',\n",
    "       'PERFORMANCE: volume de lait par uth familial_delta',\n",
    "       'PERFORMANCE: lait par vache laitière_delta']]"
   ]
  },
  {
   "cell_type": "code",
   "execution_count": null,
   "metadata": {
    "colab": {
     "base_uri": "https://localhost:8080/",
     "height": 170
    },
    "collapsed": true,
    "id": "m5cD91lJoRCu",
    "jupyter": {
     "outputs_hidden": true
    },
    "outputId": "7f80b382-262c-4b10-cc8c-27cce9f0fa3b"
   },
   "outputs": [],
   "source": [
    "best['PERFORMANCE: resultat par uth familial'].describe()"
   ]
  },
  {
   "cell_type": "code",
   "execution_count": null,
   "metadata": {
    "colab": {
     "base_uri": "https://localhost:8080/",
     "height": 170
    },
    "collapsed": true,
    "id": "PaSi67aIoYYZ",
    "jupyter": {
     "outputs_hidden": true
    },
    "outputId": "502de38c-e8f0-4a82-b035-3edef587c590"
   },
   "outputs": [],
   "source": [
    "best['PERFORMANCE: resultat par uth familial_target'].describe()"
   ]
  },
  {
   "cell_type": "code",
   "execution_count": null,
   "metadata": {
    "id": "Y-zi5V-TnLs3"
   },
   "outputs": [],
   "source": [
    "resume=best.groupby('cluster').mean().filter(regex='perc$')"
   ]
  },
  {
   "cell_type": "code",
   "execution_count": null,
   "metadata": {
    "colab": {
     "base_uri": "https://localhost:8080/",
     "height": 306
    },
    "collapsed": true,
    "id": "djCGF7sangEw",
    "jupyter": {
     "outputs_hidden": true
    },
    "outputId": "88eaad9d-f621-4825-a28d-4e028453e171"
   },
   "outputs": [],
   "source": [
    "resume[np.abs(resume)>0.05]"
   ]
  },
  {
   "cell_type": "code",
   "execution_count": null,
   "metadata": {
    "colab": {
     "base_uri": "https://localhost:8080/",
     "height": 531
    },
    "collapsed": true,
    "id": "h4rpjyEhvjlj",
    "jupyter": {
     "outputs_hidden": true
    },
    "outputId": "6cac01ae-254e-4f28-f8bf-29bdd29d94a8"
   },
   "outputs": [],
   "source": [
    "fig, ax = plt.subplots(figsize=(10,8))\n",
    "vals=resume[np.abs(resume)>0.05].T.fillna(0).replace(np.inf,0).iloc[3:-3,:] \n",
    "sns.heatmap(vals.drop(['CHARGES: annuites_delta_perc','PERFORMANCE: resultat par uth familial_delta_perc']), cmap='Blues',ax=ax)"
   ]
  },
  {
   "cell_type": "code",
   "execution_count": null,
   "metadata": {
    "colab": {
     "base_uri": "https://localhost:8080/",
     "height": 762
    },
    "collapsed": true,
    "id": "k2ERmVCUww3P",
    "jupyter": {
     "outputs_hidden": true
    },
    "outputId": "7fca9b1a-9016-43cc-a6ce-fb4005b2caa4"
   },
   "outputs": [],
   "source": [
    "\n"
   ]
  },
  {
   "cell_type": "code",
   "execution_count": null,
   "metadata": {
    "colab": {
     "base_uri": "https://localhost:8080/",
     "height": 232
    },
    "collapsed": true,
    "id": "gzzTmmwjXwPm",
    "jupyter": {
     "outputs_hidden": true
    },
    "outputId": "83a6c2c4-dbd0-4fdc-cf3f-b8f2932a3a3a"
   },
   "outputs": [],
   "source": [
    "dfshort[target]=np.where(\n",
    "    dfscaled[target]<dfscaled[target].mean()-dfscaled[target].std(),-2,\n",
    "    np.where(dfscaled[target]<dfscaled[target].mean(),-1,\n",
    "             np.where(dfscaled[target]<dfscaled[target].mean()+dfscaled[target].std(),1,2)))\n",
    "fig, ax = plt.subplots(figsize=(10,8)) \n",
    "sns.scatterplot(data=dfshort, x='x',y='y',hue=target,ax=ax,palette=\"Reds\",)"
   ]
  },
  {
   "cell_type": "code",
   "execution_count": null,
   "metadata": {
    "id": "2ddnLtsRHyQG",
    "jupyter": {
     "source_hidden": true
    }
   },
   "outputs": [],
   "source": [
    "import xgboost,shap\n",
    "def importance(X,y):\n",
    "  model = xgboost.train({\"learning_rate\": 0.01,\"objective\": 'multi:softmax','num_class':n_clusters}, xgboost.DMatrix(X, label=y), 100)\n",
    "  explainer = shap.TreeExplainer(model)\n",
    "  shap_values = explainer.shap_values(X)\n",
    "  shap.initjs()\n",
    "  shap.summary_plot(shap_values, X)"
   ]
  },
  {
   "cell_type": "code",
   "execution_count": null,
   "metadata": {
    "colab": {
     "base_uri": "https://localhost:8080/",
     "height": 625
    },
    "collapsed": true,
    "id": "eFAztOeEInaK",
    "jupyter": {
     "outputs_hidden": true
    },
    "outputId": "1df35285-e37f-45b1-ce62-8bdfa003105f"
   },
   "outputs": [],
   "source": [
    "importance(df.drop(target,1),y)"
   ]
  },
  {
   "cell_type": "code",
   "execution_count": null,
   "metadata": {
    "id": "54j3wfyzVZv3"
   },
   "outputs": [],
   "source": [
    "centers = pd.DataFrame(km.cluster_centers_, columns=dfscaled.drop(target,1).columns)"
   ]
  },
  {
   "cell_type": "code",
   "execution_count": null,
   "metadata": {
    "id": "8q3rfddFVssn"
   },
   "outputs": [],
   "source": [
    "dfscaledwithcluster=dfscaled\n",
    "dfscaledwithcluster['cluster']=y"
   ]
  },
  {
   "cell_type": "code",
   "execution_count": null,
   "metadata": {
    "id": "X3VxsTyxWZp6"
   },
   "outputs": [],
   "source": [
    "dfscaledwithcluster=dfscaledwithcluster.groupby('cluster').mean()"
   ]
  },
  {
   "cell_type": "code",
   "execution_count": null,
   "metadata": {
    "colab": {
     "base_uri": "https://localhost:8080/",
     "height": 472
    },
    "collapsed": true,
    "id": "OtdwrBomEDX2",
    "jupyter": {
     "outputs_hidden": true
    },
    "outputId": "44d64886-00ff-4363-d2ab-3bf56754f351"
   },
   "outputs": [],
   "source": [
    "fig, ax = plt.subplots(figsize=(10,4)) \n",
    "sns.heatmap(dfscaledwithcluster[[target,'PERFORMANCE: produit brut','CHARGES: salaires chargés','PERFORMANCE: lait par gros bovin','ELEVAGE: taille du troupeau','CHARGES: annuites','CHARGES: charges de structure','EXPLOITATION: surface des prairies']],ax=ax,cmap=\"Blues\")"
   ]
  },
  {
   "cell_type": "code",
   "execution_count": null,
   "metadata": {
    "colab": {
     "base_uri": "https://localhost:8080/",
     "height": 232
    },
    "collapsed": true,
    "id": "FXSCN0obHV_-",
    "jupyter": {
     "outputs_hidden": true
    },
    "outputId": "48323cf3-db4d-471b-8f1b-36c59ac59e31"
   },
   "outputs": [],
   "source": [
    "X=df.drop([target,'ID: dossier','ID: département'],1)\n",
    "y=df[target]\n",
    "X_train, X_test, y_train, y_test = train_test_split(X, y, test_size=0.33, random_state=42)\n",
    "model=lgb.LGBMRegressor()\n",
    "model.fit(X_train,y_train, eval_set=(X_test,y_test), verbose=False)\n",
    "print(mean_absolute_error(y_test, model.predict(X_test)))\n",
    "lgb.plot_importance(model, max_num_features=40, figsize=(12,12))"
   ]
  },
  {
   "cell_type": "code",
   "execution_count": null,
   "metadata": {
    "colab": {
     "base_uri": "https://localhost:8080/",
     "height": 628
    },
    "collapsed": true,
    "id": "A6OxRdIhLjt4",
    "jupyter": {
     "outputs_hidden": true
    },
    "outputId": "6db035a4-6b59-4d85-9516-fc8cfe67afba"
   },
   "outputs": [],
   "source": [
    "explainer = shap.TreeExplainer(model)\n",
    "shap_values = explainer.shap_values(X)\n",
    "shap.initjs()\n",
    "shap.summary_plot(shap_values, X)"
   ]
  },
  {
   "cell_type": "code",
   "execution_count": null,
   "metadata": {
    "id": "oQoW_FDV_KDh"
   },
   "outputs": [],
   "source": [
    "#optimisations"
   ]
  },
  {
   "cell_type": "code",
   "execution_count": null,
   "metadata": {
    "id": "tlnx_HNhXghn"
   },
   "outputs": [],
   "source": [
    "dfclustered=pd.read_csv('gs://referentiels2/dfclustered.csv')"
   ]
  },
  {
   "cell_type": "code",
   "execution_count": null,
   "metadata": {
    "colab": {
     "base_uri": "https://localhost:8080/",
     "height": 35
    },
    "collapsed": true,
    "id": "ljb-KaHnjtHH",
    "jupyter": {
     "outputs_hidden": true
    },
    "outputId": "74753582-7a7d-4523-faf1-7586eec37f58"
   },
   "outputs": [],
   "source": [
    "#passer les colonnes de positionnements en pratiques d'élevages\n",
    "dfclustered=dfclustered.rename(columns={'POSITIONNEMENT: lait par vache laitière':'PRATIQUES D\\'ELEVAGE: lait par vache laitière',\n",
    "       'POSITIONNEMENT: lait par ha de surface fourragère principale':'PRATIQUES D\\'ELEVAGE: lait par ha de surface fourragère principale'})\n",
    "#création du modèle de prédiction de cible\n",
    "import lightgbm as lgb\n",
    "random_state = 7\n",
    "X = dfclustered.drop(['CIBLE: resultat par uth familial','cluster','ID: département','ID: dossier'],1)\n",
    "y=dfclustered['CIBLE: resultat par uth familial']\n",
    "X_train, X_test, y_train, y_test = train_test_split(X, y, test_size=0.2, random_state=random_state)\n",
    "model=lgb.LGBMRegressor(n_estimators=50000)\n",
    "model.fit(X_train, y_train, eval_set=(X_test, y_test), early_stopping_rounds=20,verbose=False)\n",
    "model.score(X_test,y_test)\n",
    "#création du modèle de cluster\n",
    "X = dfclustered[['PRATIQUES D\\'ELEVAGE: lait par vache laitière','PRATIQUES D\\'ELEVAGE: lait par ha de surface fourragère principale']]\n",
    "y=dfclustered['cluster']\n",
    "X_train, X_test, y_train, y_test = train_test_split(X, y, test_size=0.2, random_state=random_state)\n",
    "modelcluster=lgb.LGBMClassifier(n_estimators=50000)\n",
    "modelcluster.fit(X_train, y_train, eval_set=(X_test, y_test), early_stopping_rounds=20,verbose=False)\n",
    "modelcluster.score(X_test,y_test)"
   ]
  },
  {
   "cell_type": "code",
   "execution_count": null,
   "metadata": {
    "colab": {
     "base_uri": "https://localhost:8080/",
     "height": 35
    },
    "collapsed": true,
    "id": "xpc2e1H_PJPX",
    "jupyter": {
     "outputs_hidden": true
    },
    "outputId": "029bbf5c-ff1d-443e-cece-290dcad44e5d"
   },
   "outputs": [],
   "source": [
    "import joblib\n",
    "joblib.dump(model,'model')\n",
    "joblib.dump(modelcluster,'modelcluster')"
   ]
  },
  {
   "cell_type": "code",
   "execution_count": null,
   "metadata": {
    "colab": {
     "base_uri": "https://localhost:8080/",
     "height": 121
    },
    "collapsed": true,
    "id": "u7ZNgV3dxies",
    "jupyter": {
     "outputs_hidden": true
    },
    "outputId": "ba597d0c-7ab3-43c2-8911-1fb6dc2d3fec"
   },
   "outputs": [],
   "source": [
    "!gsutil cp model gs://referentiels2/\n",
    "!gsutil cp modelcluster gs://referentiels2/\n"
   ]
  },
  {
   "cell_type": "code",
   "execution_count": null,
   "metadata": {
    "id": "q2DF2EKNY11S"
   },
   "outputs": [],
   "source": [
    "!gsutil -m rm -r gs://referentiels2/cerfrance*.csv"
   ]
  },
  {
   "cell_type": "code",
   "execution_count": null,
   "metadata": {
    "id": "lHPg940axKJM"
   },
   "outputs": [],
   "source": [
    "dfclustered[[]].to_csv('gs://findstorage/cerfrance/simulation7.csv',index=True)"
   ]
  },
  {
   "cell_type": "code",
   "execution_count": null,
   "metadata": {
    "id": "ez6gYR8cyRwa"
   },
   "outputs": [],
   "source": [
    "!gsutil -m cp -r gs://referentiels2/cerfrance*.csv ."
   ]
  },
  {
   "cell_type": "code",
   "execution_count": null,
   "metadata": {
    "id": "kvvFQwtQyySf"
   },
   "outputs": [],
   "source": [
    "import os\n",
    "files=[f for f in os.listdir() if '.csv' in f]"
   ]
  },
  {
   "cell_type": "code",
   "execution_count": null,
   "metadata": {
    "id": "0SVYmOFQyX75"
   },
   "outputs": [],
   "source": [
    "simulation=[]\n",
    "for f in files:\n",
    "  try:\n",
    "    simulation.append(pd.read_csv(f) )\n",
    "  except:\n",
    "    print('error for '+f)"
   ]
  },
  {
   "cell_type": "code",
   "execution_count": null,
   "metadata": {
    "id": "KJdb-6u33iGg"
   },
   "outputs": [],
   "source": [
    "simulation=pd.concat(simulation)"
   ]
  },
  {
   "cell_type": "code",
   "execution_count": null,
   "metadata": {
    "id": "ZkFrUyBy3vht"
   },
   "outputs": [],
   "source": [
    "simulation=simulation.dropna()"
   ]
  },
  {
   "cell_type": "code",
   "execution_count": null,
   "metadata": {
    "id": "e6EQntLt4Bfs"
   },
   "outputs": [],
   "source": [
    "simulation['index']=simulation['index'].astype(int)"
   ]
  },
  {
   "cell_type": "code",
   "execution_count": null,
   "metadata": {
    "colab": {
     "base_uri": "https://localhost:8080/",
     "height": 408
    },
    "collapsed": true,
    "id": "E9qCdOp4eIkI",
    "jupyter": {
     "outputs_hidden": true
    },
    "outputId": "4e369b3e-f6c1-4ba1-b90a-88bd2f0d970a"
   },
   "outputs": [],
   "source": [
    "simulation.head()"
   ]
  },
  {
   "cell_type": "code",
   "execution_count": null,
   "metadata": {
    "id": "PY6QghdJ0_d5"
   },
   "outputs": [],
   "source": [
    "simulationresults=dfclustered.merge(simulation, left_index=True, right_on=['index']).drop('index',1)"
   ]
  },
  {
   "cell_type": "code",
   "execution_count": null,
   "metadata": {
    "colab": {
     "base_uri": "https://localhost:8080/",
     "height": 155
    },
    "collapsed": true,
    "id": "d1H_9Bh715le",
    "jupyter": {
     "outputs_hidden": true
    },
    "outputId": "500943dd-e43d-4f8b-e7eb-0ebed0b08a98"
   },
   "outputs": [],
   "source": [
    "effort=np.abs((simulationresults.filter(regex='_y').drop(['cluster_y','CIBLE: resultat par uth familial_y'],1).values-simulationresults.filter(regex='_x').drop(['cluster_x','CIBLE: resultat par uth familial_x'],1).values)/simulationresults.filter(regex='_x').drop(['cluster_x','CIBLE: resultat par uth familial_x'],1).values)"
   ]
  },
  {
   "cell_type": "code",
   "execution_count": null,
   "metadata": {
    "id": "Kdu1jsHq2zwT"
   },
   "outputs": [],
   "source": [
    "effort=pd.DataFrame(effort).replace(np.inf,0).mean(1)"
   ]
  },
  {
   "cell_type": "code",
   "execution_count": null,
   "metadata": {
    "id": "_hfVG5gH3Bj1"
   },
   "outputs": [],
   "source": [
    "simulationresults['effort']=effort"
   ]
  },
  {
   "cell_type": "code",
   "execution_count": null,
   "metadata": {
    "id": "1iQMCV6a4v8m"
   },
   "outputs": [],
   "source": [
    "simulationresults['gain']=simulationresults['CIBLE: resultat par uth familial_y']-simulationresults['CIBLE: resultat par uth familial_x']\n",
    "simulationresults['gainrelatif']=(simulationresults['CIBLE: resultat par uth familial_y']-simulationresults['CIBLE: resultat par uth familial_x'])/simulationresults['CIBLE: resultat par uth familial_x']"
   ]
  },
  {
   "cell_type": "code",
   "execution_count": null,
   "metadata": {
    "id": "slcdkIpX3lit"
   },
   "outputs": [],
   "source": [
    "simulationresults['interessant']=(simulationresults['gain']>0) & (simulationresults['effort']<1)"
   ]
  },
  {
   "cell_type": "code",
   "execution_count": null,
   "metadata": {
    "colab": {
     "base_uri": "https://localhost:8080/",
     "height": 86
    },
    "collapsed": true,
    "id": "O0LUfzHG36Gv",
    "jupyter": {
     "outputs_hidden": true
    },
    "outputId": "97e5af16-e64a-4c4d-c81e-bc5f0349141e"
   },
   "outputs": [],
   "source": [
    "final=simulationresults[simulationresults['interessant']==True].groupby(['cluster_x','cluster_y','colonnes'])['effort','gain'].mean()"
   ]
  },
  {
   "cell_type": "code",
   "execution_count": null,
   "metadata": {
    "id": "yOXsfucps6Zl"
   },
   "outputs": [],
   "source": [
    "final['rentabilite']=final.gain/final.effort"
   ]
  },
  {
   "cell_type": "code",
   "execution_count": null,
   "metadata": {
    "colab": {
     "base_uri": "https://localhost:8080/",
     "height": 437
    },
    "collapsed": true,
    "id": "wrQw8RT_tjJb",
    "jupyter": {
     "outputs_hidden": true
    },
    "outputId": "5276524a-878e-4abd-bffb-30c64e32238a"
   },
   "outputs": [],
   "source": [
    "final.sort_values(by='rentabilite',ascending=False)"
   ]
  },
  {
   "cell_type": "code",
   "execution_count": null,
   "metadata": {
    "id": "Nxz0Asni1q57"
   },
   "outputs": [],
   "source": [
    "simulationresults.to_csv('gs://referentiels2/simulationresults.csv',index=False)"
   ]
  },
  {
   "cell_type": "code",
   "execution_count": null,
   "metadata": {
    "id": "_jj1JDvZlsGS"
   },
   "outputs": [],
   "source": [
    "simulationresults=pd.read_csv('gs://referentiels2/simulationresults.csv')"
   ]
  },
  {
   "cell_type": "code",
   "execution_count": null,
   "metadata": {
    "id": "N7yeSOeoPjZ3"
   },
   "outputs": [],
   "source": [
    "simulationresults.head(n=10)"
   ]
  },
  {
   "cell_type": "code",
   "execution_count": null,
   "metadata": {
    "colab": {
     "base_uri": "https://localhost:8080/",
     "height": 173
    },
    "collapsed": true,
    "id": "VWhcdQY348qy",
    "jupyter": {
     "outputs_hidden": true
    },
    "outputId": "88e05aa0-b5a5-457c-f0e6-244f41ea0e65"
   },
   "outputs": [],
   "source": [
    "simulationresults['gain'].describe()"
   ]
  },
  {
   "cell_type": "code",
   "execution_count": null,
   "metadata": {
    "colab": {
     "base_uri": "https://localhost:8080/",
     "height": 397
    },
    "collapsed": true,
    "id": "QEngvw8D5G0l",
    "jupyter": {
     "outputs_hidden": true
    },
    "outputId": "27ab2bf5-83a0-41a9-c3a7-bf0962e1398e"
   },
   "outputs": [],
   "source": [
    "simulationresults.groupby(['cluster_x','colonnes']).gain.median()"
   ]
  },
  {
   "cell_type": "code",
   "execution_count": null,
   "metadata": {
    "colab": {
     "base_uri": "https://localhost:8080/",
     "height": 397
    },
    "collapsed": true,
    "id": "stljmXJX4yBM",
    "jupyter": {
     "outputs_hidden": true
    },
    "outputId": "72b6aa56-34c5-432d-9732-feea263079a9"
   },
   "outputs": [],
   "source": [
    "simulationresults[simulationresults.cluster_x==simulationresults.cluster_y].groupby(['cluster_x','colonnes']).gainrelatif.median()"
   ]
  },
  {
   "cell_type": "code",
   "execution_count": null,
   "metadata": {
    "colab": {
     "base_uri": "https://localhost:8080/",
     "height": 397
    },
    "collapsed": true,
    "id": "y2oOXDQNVgAX",
    "jupyter": {
     "outputs_hidden": true
    },
    "outputId": "81cda9a5-e937-4ff7-9ad6-1193b717c39a"
   },
   "outputs": [],
   "source": [
    "simulationresults[simulationresults.cluster_x!=simulationresults.cluster_y].groupby(['cluster_x','cluster_y']).gainrelatif.median()"
   ]
  },
  {
   "cell_type": "code",
   "execution_count": null,
   "metadata": {
    "colab": {
     "base_uri": "https://localhost:8080/",
     "height": 104
    },
    "id": "Bhtp6xIae9hi",
    "outputId": "306d8763-7d4b-4092-a4c2-727db886ccc3"
   },
   "outputs": [],
   "source": [
    "simulationresults.colonnes.value_counts()"
   ]
  },
  {
   "cell_type": "code",
   "execution_count": null,
   "metadata": {
    "colab": {
     "base_uri": "https://localhost:8080/",
     "height": 1000
    },
    "id": "5UWmPUww6Xa6",
    "outputId": "a84efc1d-7952-42e4-c9a1-6b7c7e2314de"
   },
   "outputs": [],
   "source": [
    "import plotly.graph_objects as go\n",
    "colonnes='DIMENSION'#'DYNAMIQUE_STRUCTURELLE'\n",
    "values=simulationresults[simulationresults['colonnes']==colonnes].drop(['ID: dossier','ID: département'],1).filter(regex='_y').groupby('cluster_y').mean()\n",
    "\n",
    "values=pd.DataFrame(MinMaxScaler().fit_transform(values),columns=values.columns)\n",
    "\n",
    "categories = values.columns\n",
    "for index, row in values.iterrows():\n",
    "  fig = go.Figure()\n",
    "  fig.add_trace(go.Scatterpolar(\n",
    "        r=list(row.values),\n",
    "        theta=categories,\n",
    "        fill='toself',\n",
    "        name=str(index),\n",
    "        line_color='rgb'+str(sns.color_palette(\"Set2\",8)[index])\n",
    "  ))\n",
    "  fig.show()"
   ]
  },
  {
   "cell_type": "code",
   "execution_count": null,
   "metadata": {
    "id": "R908ka01_c78"
   },
   "outputs": [],
   "source": [
    "colonnes='DYNAMIQUE STRUCTURELLE'\n",
    "values=simulationresults[simulationresults['colonnes']==colonnes].drop(['ID: dossier','ID: département'],1).filter(regex='_y').groupby('cluster_y').mean()\n",
    "\n",
    "values=pd.DataFrame(MinMaxScaler().fit_transform(values),columns=values.columns)\n",
    "\n",
    "categories = values.columns\n",
    "for index, row in values.iterrows():\n",
    "  fig = go.Figure()\n",
    "  fig.add_trace(go.Scatterpolar(\n",
    "        r=list(row.values),\n",
    "        theta=categories,\n",
    "        fill='toself',\n",
    "        name=str(index),\n",
    "        line_color='rgb'+str(sns.color_palette(\"Set2\",8)[index])\n",
    "  ))\n",
    "  fig.show()"
   ]
  },
  {
   "cell_type": "code",
   "execution_count": null,
   "metadata": {
    "id": "ekQWJ-ul_do3"
   },
   "outputs": [],
   "source": [
    "import plotly.graph_objects as go\n",
    "colonnes='PRATIQUES D\\'ELEVAGE'\n",
    "values=simulationresults[simulationresults['colonnes']==colonnes].drop(['ID: dossier','ID: département'],1).filter(regex='_y').groupby('cluster_y').mean()\n",
    "\n",
    "values=pd.DataFrame(MinMaxScaler().fit_transform(values),columns=values.columns)\n",
    "\n",
    "categories = values.columns\n",
    "for index, row in values.iterrows():\n",
    "  fig = go.Figure()\n",
    "  fig.add_trace(go.Scatterpolar(\n",
    "        r=list(row.values),\n",
    "        theta=categories,\n",
    "        fill='toself',\n",
    "        name=str(index),\n",
    "        line_color='rgb'+str(sns.color_palette(\"Set2\",8)[index])\n",
    "  ))\n",
    "  fig.show()"
   ]
  },
  {
   "cell_type": "code",
   "execution_count": null,
   "metadata": {
    "id": "dxceRcJT_eGu"
   },
   "outputs": [],
   "source": [
    "colonnes='PRATIQUES D\\'ELEVAGE|DYNAMIQUE STRUCTURELLE|DIMENSION'\n",
    "values=simulationresults[(simulationresults.cluster_x==simulationresults.cluster_y) & (simulationresults['colonnes']==colonnes)].drop(['ID: dossier','ID: département'],1).filter(regex='_y').groupby('cluster_y').mean()\n",
    "\n",
    "values=pd.DataFrame(MinMaxScaler().fit_transform(values),columns=values.columns)\n",
    "\n",
    "categories = values.columns\n",
    "for index, row in values.iterrows():\n",
    "  fig = go.Figure()\n",
    "  fig.add_trace(go.Scatterpolar(\n",
    "        r=list(row.values),\n",
    "        theta=categories,\n",
    "        fill='toself',\n",
    "        name=str(index),\n",
    "        line_color='rgb'+str(sns.color_palette(\"Set2\",8)[index])\n",
    "  ))\n",
    "  fig.show()"
   ]
  },
  {
   "cell_type": "code",
   "execution_count": null,
   "metadata": {
    "colab": {
     "base_uri": "https://localhost:8080/",
     "height": 121
    },
    "id": "F_DB2jj6m6yZ",
    "outputId": "accd4b89-2538-418b-8a43-f1163072bf3c"
   },
   "outputs": [],
   "source": [
    "simulationresults[simulationresults.cluster_x!=simulationresults.cluster_y].cluster_y.value_counts()"
   ]
  },
  {
   "cell_type": "code",
   "execution_count": null,
   "metadata": {
    "id": "w2zvU6mGFjkm"
   },
   "outputs": [],
   "source": [
    "colonnes='PRATIQUES D\\'ELEVAGE|DYNAMIQUE STRUCTURELLE|DIMENSION'\n",
    "values=simulationresults[(simulationresults.cluster_x!=simulationresults.cluster_y) & (simulationresults['colonnes']==colonnes)].drop(['ID: dossier','ID: département'],1).filter(regex='_y').groupby('cluster_y').mean()\n",
    "values=pd.DataFrame(MinMaxScaler().fit_transform(values),columns=values.columns)\n",
    "\n",
    "categories = values.columns\n",
    "for index, row in values.iterrows():\n",
    "  fig = go.Figure()\n",
    "  fig.add_trace(go.Scatterpolar(\n",
    "        r=list(row.values),\n",
    "        theta=categories,\n",
    "        fill='toself',\n",
    "        name=str(index),\n",
    "        line_color='rgb'+str(sns.color_palette(\"Set2\",8)[index])\n",
    "  ))\n",
    "  fig.show()"
   ]
  },
  {
   "cell_type": "code",
   "execution_count": null,
   "metadata": {
    "id": "pM5FIwpUHLCn"
   },
   "outputs": [],
   "source": [
    "colonnes='PRATIQUES D\\'ELEVAGE|DYNAMIQUE STRUCTURELLE|DIMENSION'\n",
    "values=simulationresults[(simulationresults.cluster_y==1) & (simulationresults.cluster_x!=simulationresults.cluster_y) & (simulationresults['colonnes']==colonnes)].drop(['ID: dossier','ID: département'],1).filter(regex='_y').groupby('cluster_y').mean()\n",
    "\n",
    "values=pd.DataFrame(MinMaxScaler().fit_transform(values),columns=values.columns)\n",
    "\n",
    "categories = values.columns\n",
    "for index, row in values.iterrows():\n",
    "  fig = go.Figure()\n",
    "  fig.add_trace(go.Scatterpolar(\n",
    "        r=list(row.values),\n",
    "        theta=categories,\n",
    "        fill='toself',\n",
    "        name=str(index),\n",
    "        line_color='rgb'+str(sns.color_palette(\"Set2\",8)[index])\n",
    "  ))\n",
    "  fig.show()"
   ]
  },
  {
   "cell_type": "code",
   "execution_count": null,
   "metadata": {
    "colab": {
     "base_uri": "https://localhost:8080/",
     "height": 155
    },
    "id": "RrrTwh9HRtBB",
    "outputId": "faa622bc-4a5c-4620-a596-c00640bc711b"
   },
   "outputs": [],
   "source": [
    "delta=simulationresults.filter(regex='_y').values-simulationresults.filter(regex='_x').values\n",
    "deltarelatif=(simulationresults.filter(regex='_y').values-simulationresults.filter(regex='_x').values)/simulationresults.filter(regex='_x').values"
   ]
  },
  {
   "cell_type": "code",
   "execution_count": null,
   "metadata": {
    "colab": {
     "base_uri": "https://localhost:8080/",
     "height": 35
    },
    "id": "G1hRVx6zl550",
    "outputId": "d049ad2c-7a3f-48ae-fe43-98fde2b0cad6"
   },
   "outputs": [],
   "source": [
    "delta.shape"
   ]
  },
  {
   "cell_type": "code",
   "execution_count": null,
   "metadata": {
    "colab": {
     "base_uri": "https://localhost:8080/",
     "height": 35
    },
    "id": "Cq3HrIATmCgT",
    "outputId": "3de8d16a-3def-4d68-9e4d-6ff6a9af32ba"
   },
   "outputs": [],
   "source": [
    "deltarelatif.shape"
   ]
  },
  {
   "cell_type": "code",
   "execution_count": null,
   "metadata": {
    "colab": {
     "base_uri": "https://localhost:8080/",
     "height": 35
    },
    "id": "B-FK7YH5l-Zx",
    "outputId": "699d439e-f799-487d-ec8f-340d2f6678f0"
   },
   "outputs": [],
   "source": [
    "simulationresults.shape"
   ]
  },
  {
   "cell_type": "code",
   "execution_count": null,
   "metadata": {
    "id": "i0kWP_-NSLE7"
   },
   "outputs": [],
   "source": [
    "delta=pd.DataFrame(delta, columns=[c.replace('_y','_delta') for c in simulationresults.filter(regex='_y').columns],index=simulationresults.index)\n",
    "deltarelatif=pd.DataFrame(deltarelatif, columns=[c.replace('_y','_deltarelatif') for c in simulationresults.filter(regex='_y').columns],index=simulationresults.index)"
   ]
  },
  {
   "cell_type": "code",
   "execution_count": null,
   "metadata": {
    "id": "V-jbi23qSqSS"
   },
   "outputs": [],
   "source": [
    "simulationresults=pd.concat([simulationresults,delta,deltarelatif],1).drop(['CIBLE: resultat par uth familial_deltarelatif','cluster_deltarelatif'],1)"
   ]
  },
  {
   "cell_type": "code",
   "execution_count": null,
   "metadata": {
    "id": "cgPjcRezmZFr"
   },
   "outputs": [],
   "source": [
    "simulationresults"
   ]
  },
  {
   "cell_type": "code",
   "execution_count": null,
   "metadata": {
    "id": "g_ZGJUsrTj31"
   },
   "outputs": [],
   "source": [
    "simulationresults.to_csv('gs://referentiels2/simulationresults.csv',index=False, sep=';')"
   ]
  },
  {
   "cell_type": "code",
   "execution_count": null,
   "metadata": {
    "id": "QxwdgoRFmhG3"
   },
   "outputs": [],
   "source": [
    "simulationresults.to_csv('simulationresults.csv',index=False, sep=';')"
   ]
  },
  {
   "cell_type": "code",
   "execution_count": null,
   "metadata": {
    "id": "o1aou6UEqPJ9"
   },
   "outputs": [],
   "source": [
    "import pandas as pd, numpy as np"
   ]
  },
  {
   "cell_type": "code",
   "execution_count": null,
   "metadata": {
    "id": "Rkg5Ni5dqt-n"
   },
   "outputs": [],
   "source": [
    "!pip install -q gcsfs"
   ]
  },
  {
   "cell_type": "code",
   "execution_count": null,
   "metadata": {
    "id": "kMBlWWI9Dacg"
   },
   "outputs": [],
   "source": [
    "s=pd.read_csv('gs://referentiels2/simulationresults.csv', sep=';')"
   ]
  },
  {
   "cell_type": "code",
   "execution_count": null,
   "metadata": {
    "id": "eAqHRfnFq3fy"
   },
   "outputs": [],
   "source": [
    "s['Objectifs en productivité L / UTH Fam']=np.where((s.gain>0) & (s['DYNAMIQUE STRUCTURELLE: volume de lait par uth familial_delta']<-30), 'Réduire le volume lait /UTH de '+s['DYNAMIQUE STRUCTURELLE: volume de lait par uth familial_delta'].astype(int).astype(str)+' l',\n",
    "  np.where((s.gain>0) & (s['DYNAMIQUE STRUCTURELLE: volume de lait par uth familial_delta']>30), 'Augmenter le volume lait /UTH de '+s['DYNAMIQUE STRUCTURELLE: volume de lait par uth familial_delta'].astype(int).astype(str)+' l',np.NaN))\n",
    "limite=200\n",
    "objectif='Productivité L / ha SFP'\n",
    "colonne=\"PRATIQUES D'ELEVAGE: lait par ha de surface fourragère principale_delta\"\n",
    "s['Objectifs en '+objectif]=np.where((s.gain>0) & (s[colonne]<-limite), 'Réduire la '+objectif+' de '+s[colonne].astype(int).astype(str)+' l',\n",
    "  np.where((s.gain>0) & (s[colonne]>limite), 'Augmenter la '+objectif+' de '+s[colonne].astype(int).astype(str)+' l',''))\n",
    "limite = 100\n",
    "objectif='Productivité L / VL'\n",
    "colonne=\"PRATIQUES D'ELEVAGE: lait par vache laitière_delta\"\n",
    "s['Objectifs en '+objectif]=np.where((s.gain>0) & (s[colonne]<-limite), 'Réduire la '+objectif+' de '+s[colonne].astype(int).astype(str)+' l',\n",
    "  np.where((s.gain>0) & (s[colonne]>limite), 'Augmenter la '+objectif+' de '+s[colonne].astype(int).astype(str)+' l',''))\n",
    "objectif='INVESTIR'\n",
    "colonne='DYNAMIQUE STRUCTURELLE: amortissements_delta'\n",
    "s[objectif]=np.where((s.gain>0) & (s[colonne]<=-10), 'Réduire les investissements',\n",
    "  np.where((s.gain>0) & (s[colonne]<=-5), 'Freiner les investissements',\n",
    "           np.where((s.gain>0) & (s[colonne]>=10), 'Investir',\n",
    "                    np.where((s.gain>0) & (s[colonne]>=5), 'Investir un peu plus',''))))\n",
    "objectif=\"MAIN D'ŒUVRE SALARIEE\"\n",
    "limite = 5\n",
    "colonne=\"DYNAMIQUE STRUCTURELLE: salaires chargés_delta\"\n",
    "s[objectif]=np.where((s.gain>0) & (s[colonne]<-limite), 'Réduire la MO salariée',\n",
    "  np.where((s.gain>0) & (s[colonne]>limite), 'Embaucher',''))\n",
    "objectif=\"COUT ALIMENTAIRE\"\n",
    "limite = 0\n",
    "colonne=\"PRATIQUES D'ELEVAGE: aliments_delta\"\n",
    "s[objectif]=np.where((s.gain>0) & (s[colonne]<-limite), 'Baisser coût alimentaire',\n",
    "  np.where((s.gain>0) & (s[colonne]>limite), 'Augmenter coût alimentaire',''))\n",
    "objectif=\"Surf prairies\"\n",
    "limite = 0\n",
    "colonne=\"DIMENSION: surface des prairies_delta\"\n",
    "s[objectif]=np.where((s.gain>0) & (s[colonne]<-limite), 'Baisser',\n",
    "  np.where((s.gain>0) & (s[colonne]>limite), 'Augmenter',''))\n",
    "objectif=\"Surf maïs\"\n",
    "limite = 0\n",
    "colonne=\"DIMENSION: surface de maïs fourrager_delta\"\n",
    "s[objectif]=np.where((s.gain>0) & (s[colonne]<-limite), 'Baisser',\n",
    "  np.where((s.gain>0) & (s[colonne]>limite), 'Augmenter',''))\n",
    "s.columns=[c.replace(': ','_').replace(' ','_').replace(\"'\",'_').replace('é','e').replace('ï','i').replace('è','e').replace('/','par').replace('Œ','oe') for c in s.columns]"
   ]
  },
  {
   "cell_type": "code",
   "execution_count": null,
   "metadata": {
    "colab": {
     "base_uri": "https://localhost:8080/"
    },
    "id": "ueaJi0GlzPd0",
    "outputId": "0976ce4f-7f21-4a45-e7a7-77fc35ee2058"
   },
   "outputs": [],
   "source": [
    "s.to_gbq('cerfrance.lait', project_id='tinbiwebsite', if_exists='replace')"
   ]
  },
  {
   "cell_type": "code",
   "execution_count": null,
   "metadata": {
    "colab": {
     "base_uri": "https://localhost:8080/",
     "height": 458
    },
    "id": "OSJvlZm-1PE8",
    "outputId": "3b7ff818-f651-441e-f5c0-25f743b5a546"
   },
   "outputs": [],
   "source": [
    "s.query('ID_dossier==\"2090\"')"
   ]
  },
  {
   "cell_type": "code",
   "execution_count": null,
   "metadata": {
    "id": "C7jrL1SQ8KjE"
   },
   "outputs": [],
   "source": []
  }
 ],
 "metadata": {
  "colab": {
   "collapsed_sections": [
    "3OaCPeahTcU2",
    "sNSVrunO_rdu"
   ],
   "name": "cerfrance lait",
   "provenance": [],
   "toc_visible": true
  },
  "kernelspec": {
   "display_name": "Python 3",
   "language": "python",
   "name": "python3"
  },
  "language_info": {
   "codemirror_mode": {
    "name": "ipython",
    "version": 3
   },
   "file_extension": ".py",
   "mimetype": "text/x-python",
   "name": "python",
   "nbconvert_exporter": "python",
   "pygments_lexer": "ipython3",
   "version": "3.8.5"
  }
 },
 "nbformat": 4,
 "nbformat_minor": 4
}
